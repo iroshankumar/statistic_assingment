{
  "nbformat": 4,
  "nbformat_minor": 0,
  "metadata": {
    "colab": {
      "provenance": []
    },
    "kernelspec": {
      "name": "python3",
      "display_name": "Python 3"
    },
    "language_info": {
      "name": "python"
    }
  },
  "cells": [
    {
      "cell_type": "code",
      "execution_count": null,
      "metadata": {
        "id": "nPX5Tpke5VTn"
      },
      "outputs": [],
      "source": [
        "#Q1. What are the three measures of central tendency?\n",
        "mean, median and mode"
      ]
    },
    {
      "cell_type": "code",
      "source": [
        "#Q2. What is the difference between the mean, median, and mode? How are they used to measure the central tendency of a dataset?\n",
        "mean is the avrage of a data set or population data's avrage\n",
        "median is the centeral element of the dataset it is use to find the outlayers in a dataset\n",
        "mode is the maximum occure element in a data set\n"
      ],
      "metadata": {
        "id": "HrETRqw95mm0"
      },
      "execution_count": null,
      "outputs": []
    },
    {
      "cell_type": "code",
      "source": [
        "#Q3. Measure the three measures of central tendency for the given height data:\n",
        "a=[178,177,176,177,178.2,178,175,179,180,175,178.9,176.2,177,172.5,178,176.5]\n"
      ],
      "metadata": {
        "id": "6EVv_gSo6PRt"
      },
      "execution_count": 1,
      "outputs": []
    },
    {
      "cell_type": "code",
      "source": [
        "import numpy as np"
      ],
      "metadata": {
        "id": "bFgttA2O6VZi"
      },
      "execution_count": 2,
      "outputs": []
    },
    {
      "cell_type": "code",
      "source": [
        "#mean\n",
        "np.mean(a)"
      ],
      "metadata": {
        "colab": {
          "base_uri": "https://localhost:8080/"
        },
        "id": "_t6kfMvB6dfP",
        "outputId": "03d00267-bc3c-45a5-a9d0-10b319ce2ccb"
      },
      "execution_count": 3,
      "outputs": [
        {
          "output_type": "execute_result",
          "data": {
            "text/plain": [
              "177.01875"
            ]
          },
          "metadata": {},
          "execution_count": 3
        }
      ]
    },
    {
      "cell_type": "code",
      "source": [
        "#median\n",
        "np.median(a)"
      ],
      "metadata": {
        "colab": {
          "base_uri": "https://localhost:8080/"
        },
        "id": "W-3sCaaE6l4J",
        "outputId": "d6eb7390-940e-4cf0-a65b-05737784aa3b"
      },
      "execution_count": 9,
      "outputs": [
        {
          "output_type": "execute_result",
          "data": {
            "text/plain": [
              "177.0"
            ]
          },
          "metadata": {},
          "execution_count": 9
        }
      ]
    },
    {
      "cell_type": "code",
      "source": [
        "#mode\n",
        "import numpy as np\n",
        "from scipy import stats\n",
        "\n",
        "b = np.array(a)\n",
        "\n",
        "m = stats.mode(b)\n",
        "print(m)\n"
      ],
      "metadata": {
        "colab": {
          "base_uri": "https://localhost:8080/"
        },
        "id": "IzCQz03A6kxs",
        "outputId": "8a6ea277-1d50-4f4f-975d-c50db292b6a4"
      },
      "execution_count": 12,
      "outputs": [
        {
          "output_type": "stream",
          "name": "stdout",
          "text": [
            "ModeResult(mode=array([177.]), count=array([1]))\n"
          ]
        },
        {
          "output_type": "stream",
          "name": "stderr",
          "text": [
            "<ipython-input-12-af87e7e454a7>:7: FutureWarning: Unlike other reduction functions (e.g. `skew`, `kurtosis`), the default behavior of `mode` typically preserves the axis it acts along. In SciPy 1.11.0, this behavior will change: the default value of `keepdims` will become False, the `axis` over which the statistic is taken will be eliminated, and the value None will no longer be accepted. Set `keepdims` to True or False to avoid this warning.\n",
            "  m = stats.mode(b)\n"
          ]
        }
      ]
    },
    {
      "cell_type": "code",
      "source": [
        "#Q4. Find the standard deviation for the given data:\n",
        "a=np.array([178,177,176,177,178.2,178,175,179,180,175,178.9,176.2,177,172.5,178,176.5])\n",
        "np.std(a)"
      ],
      "metadata": {
        "colab": {
          "base_uri": "https://localhost:8080/"
        },
        "id": "h6Xq9Jtw6TqU",
        "outputId": "6dbdb33d-e4b0-4e12-c9bf-b985f455b40a"
      },
      "execution_count": 16,
      "outputs": [
        {
          "output_type": "execute_result",
          "data": {
            "text/plain": [
              "1.7885814036548633"
            ]
          },
          "metadata": {},
          "execution_count": 16
        }
      ]
    },
    {
      "cell_type": "code",
      "source": [],
      "metadata": {
        "id": "vIQlnjP28khS"
      },
      "execution_count": null,
      "outputs": []
    },
    {
      "cell_type": "code",
      "source": [
        "Q5. How are measures of dispersion such as range, variance, and standard deviation used to describe\n",
        "the spread of a dataset? Provide an example.\n",
        "\n",
        "Measures of dispersion (range, variance, and standard deviation) describe the spread of a dataset.\n",
        "Range is the difference between the maximum and minimum values. Variance measures the average squared deviation from the mean.\n",
        "Standard deviation is the square root of the variance, indicating the average deviation from the mean.\n"
      ],
      "metadata": {
        "id": "XQRoLd-q8iHm"
      },
      "execution_count": null,
      "outputs": []
    },
    {
      "cell_type": "code",
      "source": [
        "Q6. What is a Venn diagram?\n",
        "\n",
        "A Venn diagram is a visual representation showing the relationships between different sets or groups."
      ],
      "metadata": {
        "id": "yrhE7chf9ZoQ"
      },
      "execution_count": null,
      "outputs": []
    },
    {
      "cell_type": "code",
      "source": [
        "Q7. For the two given sets A = (2,3,4,5,6,7) & B = (0,2,6,8,10). Find:\n",
        "\n",
        "(i) A B=2,6\n",
        "(ii) A ⋃ B=0,2,3,4,5,6,7\n"
      ],
      "metadata": {
        "id": "q_nF35I89b3p"
      },
      "execution_count": null,
      "outputs": []
    },
    {
      "cell_type": "code",
      "source": [
        "Q8. What do you understand about skewness in data?\n",
        "Skewness in data refers to the asymmetry in the distribution of values.\n",
        "\n"
      ],
      "metadata": {
        "id": "w85sUXvm9hYz"
      },
      "execution_count": null,
      "outputs": []
    },
    {
      "cell_type": "code",
      "source": [
        "Q9. If a data is right skewed then what will be the position of median with respect to mean?\n",
        "\n",
        "In a right-skewed dataset, the median will typically be smaller than the mean.\n"
      ],
      "metadata": {
        "id": "1tlspWds_DrI"
      },
      "execution_count": null,
      "outputs": []
    },
    {
      "cell_type": "code",
      "source": [
        "Q10. Explain the difference between covariance and correlation. How are these measures used in\n",
        "statistical analysis?\n",
        "\n",
        "Covariance measures the extent to which two variables vary together, while correlation provides a standardized measure between -1 and 1.\n",
        "They are used in statistical analysis to understand relationships and make predictions.\n",
        "\n"
      ],
      "metadata": {
        "id": "yisacIVj_NF0"
      },
      "execution_count": null,
      "outputs": []
    },
    {
      "cell_type": "code",
      "source": [
        "Q11. What is the formula for calculating the sample mean? Provide an example calculation for a\n",
        "dataset.\n",
        "\n",
        "The sample mean (x̄) is calculated by summing all data points and dividing by the number of data points.\n",
        "\n"
      ],
      "metadata": {
        "id": "HSTl8c0n_TjI"
      },
      "execution_count": null,
      "outputs": []
    },
    {
      "cell_type": "code",
      "source": [
        "Q12. For a normal distribution data what is the relationship between its measure of central tendency?\n",
        "For a normal distribution, the mean, median, and mode are all equal.\n",
        "\n"
      ],
      "metadata": {
        "id": "6luGy8pt_fnt"
      },
      "execution_count": null,
      "outputs": []
    },
    {
      "cell_type": "code",
      "source": [
        "Q13. How is covariance different from correlation?\n",
        "Covariance measures the direction and magnitude of the relationship between variables,\n",
        "while correlation provides a standardized interpretation between -1 and 1.\n"
      ],
      "metadata": {
        "id": "vASKo6jW_pjh"
      },
      "execution_count": null,
      "outputs": []
    },
    {
      "cell_type": "code",
      "source": [
        "Q14. How do outliers affect measures of central tendency and dispersion? Provide an example.\n",
        "Outliers can significantly affect measures of central tendency (mean, median, mode) and dispersion (range, variance, standard deviation). They can pull the mean away from the center and increase the spread of the data. For example, if a dataset of salaries has an outlier with an extremely high value, the mean salary will be skewed upwards, affecting the average income representation.\n"
      ],
      "metadata": {
        "id": "spKB_6Eu_qZ7"
      },
      "execution_count": null,
      "outputs": []
    }
  ]
}